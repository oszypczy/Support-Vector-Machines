{
 "cells": [
  {
   "cell_type": "code",
   "execution_count": 3,
   "metadata": {},
   "outputs": [],
   "source": [
    "import pandas as pd\n",
    "from sklearn.model_selection import train_test_split as tts"
   ]
  },
  {
   "cell_type": "code",
   "execution_count": 21,
   "metadata": {},
   "outputs": [],
   "source": [
    "def initialize_dataset(input_file: str) -> tuple:\n",
    "\n",
    "    dataframe = pd.read_csv(input_file)\n",
    "    dataframe  = pd.get_dummies(dataframe ,\n",
    "                                columns=['gender',\n",
    "                                         'race/ethnicity',\n",
    "                                         \"parental level of education\",\n",
    "                                         \"lunch\",\n",
    "                                         \"test preparation course\"],\n",
    "                                prefix=['gender',\n",
    "                                        'group',\n",
    "                                        'parent_ed',\n",
    "                                        'lunch',\n",
    "                                        'prep_course'], dtype=int)\n",
    "\n",
    "    # Convert score columns to integers\n",
    "    dataframe[['math score', 'reading score', 'writing score']] = dataframe[['math score', 'reading score', 'writing score']].astype(int)\n",
    "\n",
    "    # Create a new column 'passed' based on your condition\n",
    "    dataframe['passed'] = dataframe.apply(lambda row: 1 if (row['math score'] > 60) & (row['reading score'] > 60) & (row['writing score'] > 60) else -1, axis=1)\n",
    "    dataframe.drop(['math score', 'reading score', 'writing score'], axis=1, inplace=True)\n",
    "\n",
    "    # Split the dataset into training and testing sets\n",
    "    y = dataframe.loc[:, 'passed']\n",
    "    print(\"splitting dataset into train and test sets...\")\n",
    "    x_train, x_test, y_train, y_test = tts(dataframe, y, test_size=0.2, random_state=42)\n",
    "\n",
    "    return (x_train, x_test, y_train, y_test)"
   ]
  },
  {
   "cell_type": "code",
   "execution_count": 23,
   "metadata": {},
   "outputs": [
    {
     "name": "stdout",
     "output_type": "stream",
     "text": [
      "splitting dataset into train and test sets...\n"
     ]
    }
   ],
   "source": [
    "input_file = \"dataset.csv\"\n",
    "x_train, x_test, y_train, y_test = initialize_dataset(input_file)\n",
    "x_train.to_csv(\"x_train.csv\", index=False)\n",
    "x_test.to_csv(\"x_test.csv\", index=False)\n",
    "y_train.to_csv(\"y_train.csv\", index=False)\n",
    "y_test.to_csv(\"y_test.csv\", index=False)"
   ]
  }
 ],
 "metadata": {
  "kernelspec": {
   "display_name": "Python 3",
   "language": "python",
   "name": "python3"
  },
  "language_info": {
   "codemirror_mode": {
    "name": "ipython",
    "version": 3
   },
   "file_extension": ".py",
   "mimetype": "text/x-python",
   "name": "python",
   "nbconvert_exporter": "python",
   "pygments_lexer": "ipython3",
   "version": "3.8.10"
  }
 },
 "nbformat": 4,
 "nbformat_minor": 2
}
